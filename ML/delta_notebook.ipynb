{
 "cells": [
  {
   "cell_type": "markdown",
   "metadata": {},
   "source": [
    "## Landmark Detection"
   ]
  },
  {
   "cell_type": "code",
   "execution_count": 1,
   "metadata": {},
   "outputs": [],
   "source": [
    "import sys\n",
    "sys.path.append('./HRNet-Facial-Landmark-Detection')"
   ]
  },
  {
   "cell_type": "code",
   "execution_count": 2,
   "metadata": {},
   "outputs": [],
   "source": [
    "from lib.models.hrnet import HighResolutionNet\n",
    "from lib.config import config\n",
    "from lib.models import get_face_alignment_net\n",
    "from lib.utils.transforms import crop\n",
    "import torch\n",
    "import numpy as np\n",
    "from PIL import Image\n",
    "from skimage.transform import resize\n",
    "from matplotlib import pyplot as plt \n",
    "import cv2"
   ]
  },
  {
   "cell_type": "code",
   "execution_count": 4,
   "metadata": {},
   "outputs": [
    {
     "data": {
      "text/plain": [
       "<All keys matched successfully>"
      ]
     },
     "execution_count": 4,
     "metadata": {},
     "output_type": "execute_result"
    }
   ],
   "source": [
    "config.defrost()\n",
    "config.merge_from_file(\"./face_alignment_300w_hrnet_w18.yaml\")\n",
    "config.OUTPUT_DIR = './out'\n",
    "#config.GPUS = (0 , 1)\n",
    "config.MODEL.INIT_WEIGHTS = False\n",
    "config.freeze()\n",
    "model = get_face_alignment_net(config)\n",
    "device = torch.device('cpu')\n",
    "model.to(device)\n",
    "model = model.cpu()\n",
    "image_path = './side_crop.png'\n",
    "state_dict = torch.load(\"./cpu_model.pth\", map_location=device)\n",
    "model.load_state_dict(torch.load(\"./cpu_model.pth\", map_location=device))"
   ]
  },
  {
   "cell_type": "code",
   "execution_count": 5,
   "metadata": {},
   "outputs": [],
   "source": [
    "mean = np.array([0.485, 0.456, 0.406], dtype=np.float32)\n",
    "std = np.array([0.229, 0.224, 0.225], dtype=np.float32)\n",
    "img = np.array(Image.open(image_path).convert('RGB'), dtype=np.float32)\n",
    "img = resize(img, [256,256])\n",
    "img = img.astype(np.float32)\n",
    "img = (img/255.0 - mean) / std\n",
    "img = img.transpose([2, 0, 1])"
   ]
  },
  {
   "cell_type": "code",
   "execution_count": 6,
   "metadata": {},
   "outputs": [
    {
     "name": "stderr",
     "output_type": "stream",
     "text": [
      "/home/cameron/storage/miniconda3/envs/cameronenv/lib/python3.8/site-packages/torch/nn/functional.py:3060: UserWarning: Default upsampling behavior when mode=bilinear is changed to align_corners=False since 0.4.0. Please specify align_corners=True if the old behavior is desired. See the documentation of nn.Upsample for details.\n",
      "  warnings.warn(\"Default upsampling behavior when mode={} is changed \"\n"
     ]
    }
   ],
   "source": [
    "output = model(torch.Tensor(img).unsqueeze(dim=0))"
   ]
  },
  {
   "cell_type": "code",
   "execution_count": 16,
   "metadata": {},
   "outputs": [],
   "source": [
    "output = output.data.cpu()"
   ]
  },
  {
   "cell_type": "code",
   "execution_count": 7,
   "metadata": {},
   "outputs": [],
   "source": [
    "def get_preds(scores):\n",
    "    \"\"\"\n",
    "    get predictions from score maps in torch Tensor\n",
    "    return type: torch.LongTensor\n",
    "    \"\"\"\n",
    "    assert scores.dim() == 4, 'Score maps should be 4-dim'\n",
    "    maxval, idx = torch.max(scores.view(scores.size(0), scores.size(1), -1), 2)\n",
    "\n",
    "    maxval = maxval.view(scores.size(0), scores.size(1), 1)\n",
    "    idx = idx.view(scores.size(0), scores.size(1), 1) + 1\n",
    "\n",
    "    preds = idx.repeat(1, 1, 2).float()\n",
    "\n",
    "    preds[:, :, 0] = (preds[:, :, 0] - 1) % scores.size(3) + 1\n",
    "    preds[:, :, 1] = torch.floor((preds[:, :, 1] - 1) / scores.size(3)) + 1\n",
    "\n",
    "    pred_mask = maxval.gt(0).repeat(1, 1, 2).float()\n",
    "    preds *= pred_mask\n",
    "    return preds"
   ]
  },
  {
   "cell_type": "code",
   "execution_count": 9,
   "metadata": {},
   "outputs": [],
   "source": [
    "coords = get_preds(output)\n",
    "coords = coords.squeeze()\n",
    "coords = coords.numpy()"
   ]
  },
  {
   "cell_type": "code",
   "execution_count": 11,
   "metadata": {},
   "outputs": [],
   "source": [
    "temple_points = [coords[0], coords[16]]\n",
    "eye_points = [coords[39], coords[42]]\n",
    "#Eye and temple points\n",
    "#(0,16)\n",
    "#(39,42)"
   ]
  },
  {
   "cell_type": "code",
   "execution_count": 18,
   "metadata": {},
   "outputs": [
    {
     "name": "stdout",
     "output_type": "stream",
     "text": [
      "54\n",
      "226\n"
     ]
    }
   ],
   "source": [
    "from torchvision import models\n",
    "import torch\n",
    "from torchvision.models.segmentation.fcn import FCNHead\n",
    "import torchvision.transforms as T\n",
    "from PIL import Image\n",
    "import os\n",
    "import numpy as np\n",
    "device = torch.device('cpu')\n",
    "fcn_load = models.segmentation.fcn_resnet101(pretrained=False)\n",
    "fcn_load.classifier = FCNHead(2048,2)\n",
    "fcn_load.aux_classifier = FCNHead(1024,2)\n",
    "#state_dict = torch.load(\"./paper_model\", map_location=device)\n",
    "fcn_load.load_state_dict(torch.load(\"./paper_model\", map_location=device))\n",
    "\n",
    "base = './paper_dataset/20210307_003056 (2).jpg'\n",
    "fcn_load.aux_classifier = None\n",
    "trf_x = T.Compose([T.Resize([256,256]),\n",
    "                 T.ToTensor(), \n",
    "                 T.Normalize(mean = [0.485, 0.456, 0.406], \n",
    "                             std = [0.229, 0.224, 0.225])])\n",
    "out = trf_x(Image.open(os.path.join(base)).convert('RGB'))\n",
    "out= out.unsqueeze(0)\n",
    "out = fcn_load(out.float())['out']\n",
    "om = torch.argmax(out.squeeze(), dim=0).detach().cpu().numpy()\n",
    "om_list = list(om)\n",
    "for i in range(len(om_list)):\n",
    "    if 0 in list(om_list[i]):\n",
    "        top = i\n",
    "        print(top)\n",
    "        break\n",
    "for j in range(len(om_list)):\n",
    "    if 0 in list(om_list[len(om_list)-1 - j ]):\n",
    "        print(len(om_list)-1 - j)\n",
    "        bottom = len(om_list)-1 - j \n",
    "        break\n",
    "distance  = bottom-top\n",
    "dist_eye = np.linalg.norm(eye_points[0]-eye_points[1])*4\n",
    "dist_temple =  np.linalg.norm(temple_points[0]-temple_points[1])*4\n",
    "out_eye = 11.5 * ((dist_eye*0.5)/distance)\n",
    "out_temple = 11.5 * (dist_temple/distance)"
   ]
  },
  {
   "cell_type": "code",
   "execution_count": 19,
   "metadata": {},
   "outputs": [
    {
     "data": {
      "text/plain": [
       "0.5348837209302325"
      ]
     },
     "execution_count": 19,
     "metadata": {},
     "output_type": "execute_result"
    }
   ],
   "source": [
    "out_eye"
   ]
  },
  {
   "cell_type": "code",
   "execution_count": 20,
   "metadata": {},
   "outputs": [
    {
     "data": {
      "text/plain": [
       "9.690846775853357"
      ]
     },
     "execution_count": 20,
     "metadata": {},
     "output_type": "execute_result"
    }
   ],
   "source": [
    "out_temple"
   ]
  },
  {
   "cell_type": "code",
   "execution_count": 20,
   "metadata": {},
   "outputs": [
    {
     "data": {
      "text/plain": [
       "<matplotlib.collections.PathCollection at 0x7f23b451f940>"
      ]
     },
     "execution_count": 20,
     "metadata": {},
     "output_type": "execute_result"
    },
    {
     "data": {
      "image/png": "[encoded data removed]",
      "text/plain": [
       "<Figure size 432x288 with 1 Axes>"
      ]
     },
     "metadata": {
      "needs_background": "light"
     },
     "output_type": "display_data"
    }
   ],
   "source": [
    "res = cv2.resize(img[2,:,:], dsize=(64, 64), interpolation=cv2.INTER_CUBIC )\n",
    "plt.imshow(res,cmap=\"cividis\")\n",
    "plt.scatter(coords[:,0],coords[:,1])"
   ]
  },
  {
   "cell_type": "markdown",
   "metadata": {},
   "source": [
    "## Paper Segmentation"
   ]
  },
  {
   "cell_type": "code",
   "execution_count": 3,
   "metadata": {},
   "outputs": [],
   "source": [
    "from torchvision import models\n",
    "from torchvision.models.segmentation.fcn import FCNHead\n",
    "import torchvision.transforms as T\n",
    "fcn = models.segmentation.fcn_resnet101(pretrained=True)\n",
    "fcn.classifier = FCNHead(2048,2)\n",
    "fcn.aux_classifier = FCNHead(1024,2)\n",
    "model_ft = fcn"
   ]
  },
  {
   "cell_type": "code",
   "execution_count": 7,
   "metadata": {},
   "outputs": [],
   "source": [
    "from torchvision import transforms\n",
    "# Data augmentation and normalization for training\n",
    "# Just normalization for validation\n",
    "data_transforms = {\n",
    "    'train': transforms.Compose([\n",
    "        transforms.RandomResizedCrop([256,256]),\n",
    "        transforms.RandomHorizontalFlip(),\n",
    "        transforms.ToTensor(),\n",
    "        transforms.Normalize([0.485, 0.456, 0.406], [0.229, 0.224, 0.225])\n",
    "    ]),\n",
    "    'val': transforms.Compose([\n",
    "        transforms.Resize([256,256]),\n",
    "        transforms.CenterCrop([256,256]),\n",
    "        transforms.ToTensor(),\n",
    "        transforms.Normalize([0.485, 0.456, 0.406], [0.229, 0.224, 0.225])\n",
    "    ]),\n",
    "}\n"
   ]
  },
  {
   "cell_type": "code",
   "execution_count": 4,
   "metadata": {},
   "outputs": [],
   "source": [
    "def make_binary(x):\n",
    "    return 1 if x < 0.5 else 0"
   ]
  },
  {
   "cell_type": "code",
   "execution_count": 5,
   "metadata": {},
   "outputs": [],
   "source": [
    "import os\n",
    "base = './paper_dataset'\n",
    "files = [ file.split('.')[0] for file in os.listdir(base + '/segmentation') if os.path.isdir(base + '/segmentation/' + file) == False]\n",
    "data = []\n",
    "trf_y = T.Compose([T.Resize([256,256]),\n",
    "                 T.ToTensor()])\n",
    "trf_x = T.Compose([T.Resize([256,256]),\n",
    "                 T.ToTensor(), \n",
    "                 T.Normalize(mean = [0.485, 0.456, 0.406], \n",
    "                             std = [0.229, 0.224, 0.225])])\n",
    "for file in files:\n",
    "    y_val = trf_y(Image.open(os.path.join(base+'/segmentation',file+'.png')).convert('L')).squeeze()\n",
    "    for j in range(y_val.shape[0]):\n",
    "            for k in range(y_val.shape[1]):\n",
    "                y_val[j,k] = make_binary(y_val[j,k])    \n",
    "    data.append({'data' : trf_x(Image.open(os.path.join(base,file+'.jpg')).convert('RGB')) ,'seg' : y_val})"
   ]
  },
  {
   "cell_type": "code",
   "execution_count": 16,
   "metadata": {},
   "outputs": [],
   "source": [
    "def col_fn (x):\n",
    "    out_x = []\n",
    "    out_y = []\n",
    "    for i in x:\n",
    "        out_x.append(i['data'])\n",
    "        out_y.append(i['seg'])        \n",
    "    return torch.stack(out_x), torch.stack(out_y)"
   ]
  },
  {
   "cell_type": "code",
   "execution_count": 17,
   "metadata": {},
   "outputs": [],
   "source": [
    "dataloaders = dict()\n",
    "dataloaders['train'] = torch.utils.data.DataLoader(data,collate_fn = col_fn)"
   ]
  },
  {
   "cell_type": "code",
   "execution_count": null,
   "metadata": {},
   "outputs": [],
   "source": [
    "# Send the model to GPU\n",
    "device = torch.device(\"cuda:0\")\n",
    "model_ft = model_ft.to(device)\n",
    "\n",
    "# Gather the parameters to be optimized/updated in this run. If we are\n",
    "#  finetuning we will be updating all parameters. However, if we are\n",
    "#  doing feature extract method, we will only update the parameters\n",
    "#  that we have just initialized, i.e. the parameters with requires_grad\n",
    "#  is True.\n",
    "params_to_update = model_ft.parameters()\n",
    "print(\"Params to learn:\")\n",
    "for name,param in model_ft.named_parameters():\n",
    "    if param.requires_grad == True:\n",
    "        print(\"\\t\",name)\n",
    "\n",
    "# Observe that all parameters are being optimized\n",
    "optimizer_ft = torch.optim.SGD(params_to_update, lr=0.001, momentum=0.9)"
   ]
  },
  {
   "cell_type": "code",
   "execution_count": 36,
   "metadata": {},
   "outputs": [],
   "source": [
    "import copy\n",
    "def train_model(model, dataloaders, criterion, optimizer, num_epochs=25, is_inception=False):\n",
    "    #since = time.time()\n",
    "\n",
    "    val_acc_history = []\n",
    "\n",
    "    best_model_wts = copy.deepcopy(model.state_dict())\n",
    "    best_acc = 0.0\n",
    "\n",
    "    for epoch in range(num_epochs):\n",
    "        print('Epoch {}/{}'.format(epoch, num_epochs - 1))\n",
    "        print('-' * 10)\n",
    "\n",
    "        # Each epoch has a training and validation phase\n",
    "        for phase in ['train']:\n",
    "            if phase == 'train':\n",
    "                model.train()  # Set model to training mode\n",
    "            else:\n",
    "                model.eval()   # Set model to evaluate mode\n",
    "\n",
    "            running_loss = 0.0\n",
    "            running_corrects = 0\n",
    "\n",
    "            # Iterate over data.\n",
    "            for inputs, labels in dataloaders[phase]:\n",
    "                #print(inputs)\n",
    "                #print(labels)\n",
    "                inputs = inputs.to(device)\n",
    "                labels = labels.to(device)\n",
    "\n",
    "                # zero the parameter gradients\n",
    "                optimizer.zero_grad()\n",
    "\n",
    "                # forward\n",
    "                # track history if only in train\n",
    "                with torch.set_grad_enabled(phase == 'train'):\n",
    "                    # Get model outputs and calculate loss\n",
    "                    # Special case for inception because in training it has an auxiliary output. In train\n",
    "                    #   mode we calculate the loss by summing the final output and the auxiliary output\n",
    "                    #   but in testing we only consider the final output.\n",
    "                    if is_inception and phase == 'train':\n",
    "                        # From https://discuss.pytorch.org/t/how-to-optimize-inception-model-with-auxiliary-classifiers/7958\n",
    "                        outputs, aux_outputs = model(inputs)\n",
    "                        loss1 = criterion(outputs, labels)\n",
    "                        loss2 = criterion(aux_outputs, labels)\n",
    "                        loss = loss1 + 0.4*loss2\n",
    "                    else:\n",
    "                        outputs = model(inputs)['out']\n",
    "                        #print(outputs)\n",
    "                        #print(labels)\n",
    "                        loss = criterion(outputs, labels.type(torch.LongTensor).cuda())\n",
    "\n",
    "                    _, preds = torch.max(outputs, 1)\n",
    "\n",
    "                    # backward + optimize only if in training phase\n",
    "                    if phase == 'train':\n",
    "                        loss.backward()\n",
    "                        optimizer.step()\n",
    "\n",
    "                # statistics\n",
    "                running_loss += loss.item() * inputs.size(0)\n",
    "                running_corrects += torch.sum(preds == labels.data)\n",
    "\n",
    "            epoch_loss = running_loss / len(dataloaders[phase].dataset)\n",
    "            epoch_acc = running_corrects.double() / len(dataloaders[phase].dataset)\n",
    "\n",
    "            print('{} Loss: {:.4f} Acc: {:.4f}'.format(phase, epoch_loss, epoch_acc))\n",
    "\n",
    "            # deep copy the model\n",
    "            if phase == 'val' and epoch_acc > best_acc:\n",
    "                best_acc = epoch_acc\n",
    "                best_model_wts = copy.deepcopy(model.state_dict())\n",
    "            if phase == 'val':\n",
    "                val_acc_history.append(epoch_acc)\n",
    "\n",
    "        print()\n",
    "\n",
    "    print('Best val Acc: {:4f}'.format(best_acc))\n",
    "\n",
    "    # load best model weights\n",
    "    model.load_state_dict(best_model_wts)\n",
    "    return model, val_acc_history"
   ]
  },
  {
   "cell_type": "code",
   "execution_count": null,
   "metadata": {},
   "outputs": [],
   "source": [
    "criterion = torch.nn.CrossEntropyLoss()\n",
    "model_out, val_acc_history = train_model(model = model_ft, dataloaders=dataloaders, criterion = criterion, optimizer = optimizer_ft)"
   ]
  },
  {
   "cell_type": "code",
   "execution_count": 43,
   "metadata": {},
   "outputs": [],
   "source": [
    "import os\n",
    "base = './paper_dataset/20210307_003056 (2).jpg'\n",
    "out = trf_x(Image.open(os.path.join(base)).convert('RGB'))\n",
    "out= out.unsqueeze(0)"
   ]
  },
  {
   "cell_type": "code",
   "execution_count": 45,
   "metadata": {},
   "outputs": [],
   "source": [
    "out = model_out(out.cuda().float())['out']"
   ]
  },
  {
   "cell_type": "code",
   "execution_count": 46,
   "metadata": {},
   "outputs": [
    {
     "data": {
      "text/plain": [
       "torch.Size([1, 2, 256, 256])"
      ]
     },
     "execution_count": 46,
     "metadata": {},
     "output_type": "execute_result"
    }
   ],
   "source": [
    "out.shape"
   ]
  },
  {
   "cell_type": "code",
   "execution_count": 61,
   "metadata": {},
   "outputs": [],
   "source": [
    "torch.save(model_out.state_dict(),'./paper_model')"
   ]
  },
  {
   "cell_type": "code",
   "execution_count": 19,
   "metadata": {},
   "outputs": [
    {
     "name": "stdout",
     "output_type": "stream",
     "text": [
      "55\n",
      "226\n"
     ]
    }
   ],
   "source": [
    "from torchvision import models\n",
    "import torch\n",
    "from torchvision.models.segmentation.fcn import FCNHead\n",
    "import torchvision.transforms as T\n",
    "from PIL import Image\n",
    "import os\n",
    "import numpy as np\n",
    "device = torch.device('cpu')\n",
    "fcn_load = models.segmentation.fcn_resnet101(pretrained=False)\n",
    "fcn_load.classifier = FCNHead(2048,2)\n",
    "fcn_load.aux_classifier = FCNHead(1024,2)\n",
    "#state_dict = torch.load(\"./paper_model\", map_location=device)\n",
    "fcn_load.load_state_dict(torch.load(\"./paper_model\", map_location=device))\n",
    "\n",
    "base = './paper_dataset/20210307_003056 (2).jpg'\n",
    "fcn_load.aux_classifier = None\n",
    "trf_x = T.Compose([T.Resize([256,256]),\n",
    "                 T.ToTensor(), \n",
    "                 T.Normalize(mean = [0.485, 0.456, 0.406], \n",
    "                             std = [0.229, 0.224, 0.225])])\n",
    "out = trf_x(Image.open(os.path.join(base)).convert('RGB'))\n",
    "out= out.unsqueeze(0)\n",
    "out = fcn_load(out.float())['out']\n",
    "om = torch.argmax(out.squeeze(), dim=0).detach().cpu().numpy()\n",
    "om_list = list(om)\n",
    "for i in range(len(om_list)):\n",
    "    if 0 in list(om_list[i]):\n",
    "        top = i\n",
    "        print(top)\n",
    "        break\n",
    "for j in range(len(om_list)):\n",
    "    if 0 in list(om_list[len(om_list)-1 - j ]):\n",
    "        print(len(om_list)-1 - j)\n",
    "        bottom = len(om_list)-1 - j \n",
    "        break\n",
    "distance  = 226-55"
   ]
  },
  {
   "cell_type": "code",
   "execution_count": null,
   "metadata": {},
   "outputs": [],
   "source": [
    "a =\n",
    "dist = np.linalg.norm(a-b)"
   ]
  },
  {
   "cell_type": "code",
   "execution_count": 47,
   "metadata": {},
   "outputs": [
    {
     "name": "stdout",
     "output_type": "stream",
     "text": [
      "(256, 256)\n"
     ]
    }
   ],
   "source": [
    "import numpy as np\n",
    "om = torch.argmax(out.squeeze(), dim=0).detach().cpu().numpy()\n",
    "\n",
    "print (om.shape)"
   ]
  },
  {
   "cell_type": "code",
   "execution_count": 58,
   "metadata": {},
   "outputs": [
    {
     "name": "stdout",
     "output_type": "stream",
     "text": [
      "54\n",
      "226\n"
     ]
    }
   ],
   "source": [
    "om_list = list(om)\n",
    "for i in range(len(om_list)):\n",
    "    if 0 in list(om_list[i]):\n",
    "        top = i\n",
    "        print(top)\n",
    "        break\n",
    "for j in range(len(om_list)):\n",
    "    if 0 in list(om_list[len(om_list)-1 - j ]):\n",
    "        print(len(om_list)-1 - j)\n",
    "        bottom = len(om_list)-1 - j \n",
    "        break"
   ]
  },
  {
   "cell_type": "code",
   "execution_count": 59,
   "metadata": {},
   "outputs": [],
   "source": [
    "distance = 226-54"
   ]
  },
  {
   "cell_type": "code",
   "execution_count": 60,
   "metadata": {},
   "outputs": [
    {
     "data": {
      "text/plain": [
       "172"
      ]
     },
     "execution_count": 60,
     "metadata": {},
     "output_type": "execute_result"
    }
   ],
   "source": [
    "distance"
   ]
  },
  {
   "cell_type": "code",
   "execution_count": null,
   "metadata": {},
   "outputs": [],
   "source": []
  },
  {
   "cell_type": "code",
   "execution_count": 50,
   "metadata": {},
   "outputs": [
    {
     "data": {
      "text/plain": [
       "<matplotlib.image.AxesImage at 0x7f9de1bd4fa0>"
      ]
     },
     "execution_count": 50,
     "metadata": {},
     "output_type": "execute_result"
    },
    {
     "data": {
      "image/png": "[encoded data removed]",
      "text/plain": [
       "<Figure size 432x288 with 1 Axes>"
      ]
     },
     "metadata": {
      "needs_background": "light"
     },
     "output_type": "display_data"
    }
   ],
   "source": [
    "plt.imshow(om)"
   ]
  },
  {
   "cell_type": "code",
   "execution_count": 13,
   "metadata": {},
   "outputs": [],
   "source": [
    "#Used for converting dict to cpu version we dont need this cell \n",
    "from collections import OrderedDict\n",
    "state_dict = torch.load(\"./cpu_model\")\n",
    "new_state_dict = OrderedDict()\n",
    "\n",
    "for key, value in state_dict.items():\n",
    "    new_key = key.replace('module.','')\n",
    "    new_state_dict[new_key] = value\n",
    "\n",
    "torch.save(new_state_dict, './cpu_model')"
   ]
  }
 ],
 "metadata": {
  "kernelspec": {
   "display_name": "cameronenvironment",
   "language": "python",
   "name": "cameronenvironment"
  },
  "language_info": {
   "codemirror_mode": {
    "name": "ipython",
    "version": 3
   },
   "file_extension": ".py",
   "mimetype": "text/x-python",
   "name": "python",
   "nbconvert_exporter": "python",
   "pygments_lexer": "ipython3",
   "version": "3.8.5"
  }
 },
 "nbformat": 4,
 "nbformat_minor": 4
}
